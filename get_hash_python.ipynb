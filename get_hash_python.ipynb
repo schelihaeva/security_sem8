{
 "cells": [
  {
   "cell_type": "code",
   "execution_count": 1,
   "id": "755744fc-25d8-43c7-9e1b-274fc8f54025",
   "metadata": {},
   "outputs": [],
   "source": [
    "import hashlib"
   ]
  },
  {
   "cell_type": "code",
   "execution_count": 2,
   "id": "9e9e4978-a63b-4200-9e91-c378e0de6ceb",
   "metadata": {},
   "outputs": [
    {
     "data": {
      "text/plain": [
       "'Хэш-значение строки: 982d9e3eb996f559e633f4d194def3761d909f5a3b647d1a851fead67c32c9d1'"
      ]
     },
     "execution_count": 2,
     "metadata": {},
     "output_type": "execute_result"
    }
   ],
   "source": [
    "import hashlib\n",
    "\n",
    "def get_hash_string(str):\n",
    "    '''Хэширование строки'''\n",
    "    \n",
    "    hash_str = hashlib.sha256(str.encode()) # создаем объект хэширования\n",
    "    hex_dig = hash_str.hexdigest() # хэш в шестнадцатеричном формате\n",
    "    return f'Хэш-значение строки: {hex_dig}'\n",
    "\n",
    "get_hash_string('text')"
   ]
  },
  {
   "cell_type": "code",
   "execution_count": 3,
   "id": "9c4b00fc-ceb6-4ecc-8b69-02886550573b",
   "metadata": {},
   "outputs": [
    {
     "data": {
      "text/plain": [
       "'Хэш-значение файла: 19f78aff5b42a42435ad967cc385a7481e51121bc6761a3f43d17a11b898b726'"
      ]
     },
     "execution_count": 3,
     "metadata": {},
     "output_type": "execute_result"
    }
   ],
   "source": [
    "def get_hash_file(path):\n",
    "    '''Хэширование файла'''\n",
    "\n",
    "    CHUNK_SIZE = 65536 #  константа для считывания файла поблочно за одну итерацию\n",
    " \n",
    "    hash_file = hashlib.sha256()\n",
    "    with open(path, 'rb') as f:\n",
    "        fb = f.read(CHUNK_SIZE)\n",
    "        while len(fb) > 0:\n",
    "            hash_file.update(fb)\n",
    "            fb = f.read(CHUNK_SIZE) \n",
    "    return f'Хэш-значение файла: {hash_file.hexdigest()}'\n",
    "\n",
    "get_hash_file('C:/Users/sergs/Downloads/задание4.jpg')"
   ]
  },
  {
   "cell_type": "code",
   "execution_count": 4,
   "id": "903c9453-0e4f-4b66-a56d-f1b95c92cdbb",
   "metadata": {},
   "outputs": [],
   "source": [
    "def get_hash_file(path):\n",
    "    '''Хэширование файла'''\n",
    "\n",
    "    CHUNK_SIZE = 65536 #  константа для считывания файла поблочно за одну итерацию\n",
    " \n",
    "    hash_file = hashlib.sha256()\n",
    "    with open(path, 'rb') as f:\n",
    "        fb = f.read(CHUNK_SIZE)\n",
    "        while len(fb) > 0:\n",
    "            hash_file.update(fb)\n",
    "            fb = f.read(CHUNK_SIZE) \n",
    "    return f'Хэш-значение файла: {hash_file.hexdigest()}'"
   ]
  },
  {
   "cell_type": "code",
   "execution_count": 5,
   "id": "2c0e2b53-7b73-4fdb-b431-7558fb20aa7d",
   "metadata": {},
   "outputs": [
    {
     "name": "stdout",
     "output_type": "stream",
     "text": [
      "CPU times: total: 562 ms\n",
      "Wall time: 568 ms\n"
     ]
    },
    {
     "data": {
      "text/plain": [
       "'Хэш-значение файла: bb30f87b79ddae13c8ee6ab55219017083f6c4157440416ef875d2312f2ec0e0'"
      ]
     },
     "execution_count": 5,
     "metadata": {},
     "output_type": "execute_result"
    }
   ],
   "source": [
    "%%time\n",
    "get_hash_file('E:/learning/lesson28_IS/L8/L8(s4).avi')"
   ]
  },
  {
   "cell_type": "code",
   "execution_count": null,
   "id": "c45006b3-4314-4f06-ad74-3330fb6bd44c",
   "metadata": {},
   "outputs": [],
   "source": [
    "def get_hash_file(path):\n",
    "    '''Хэширование файла без кэширования'''\n",
    "\n",
    "    hash_file = hashlib.sha256()\n",
    "    with open(path, 'rb') as f:\n",
    "        fb = f.read()\n",
    "        while len(fb) > 0:\n",
    "            hash_file.update(fb)\n",
    "            fb = f.read() \n",
    "    return f'Хэш-значение файла: {hash_file.hexdigest()}'"
   ]
  },
  {
   "cell_type": "code",
   "execution_count": 7,
   "id": "4d399840-50e7-4d1c-977f-257558ca61e4",
   "metadata": {},
   "outputs": [
    {
     "name": "stdout",
     "output_type": "stream",
     "text": [
      "CPU times: total: 609 ms\n",
      "Wall time: 627 ms\n"
     ]
    },
    {
     "data": {
      "text/plain": [
       "'Хэш-значение файла: bb30f87b79ddae13c8ee6ab55219017083f6c4157440416ef875d2312f2ec0e0'"
      ]
     },
     "execution_count": 7,
     "metadata": {},
     "output_type": "execute_result"
    }
   ],
   "source": [
    "%%time\n",
    "get_hash_file('E:/learning/lesson28_IS/L8/L8(s4).avi')"
   ]
  },
  {
   "cell_type": "code",
   "execution_count": null,
   "id": "07eec469-6761-4405-a19e-6df145d3a952",
   "metadata": {},
   "outputs": [],
   "source": []
  }
 ],
 "metadata": {
  "kernelspec": {
   "display_name": "Python 3 (ipykernel)",
   "language": "python",
   "name": "python3"
  },
  "language_info": {
   "codemirror_mode": {
    "name": "ipython",
    "version": 3
   },
   "file_extension": ".py",
   "mimetype": "text/x-python",
   "name": "python",
   "nbconvert_exporter": "python",
   "pygments_lexer": "ipython3",
   "version": "3.12.1"
  }
 },
 "nbformat": 4,
 "nbformat_minor": 5
}
